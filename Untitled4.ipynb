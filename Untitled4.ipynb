{
  "nbformat": 4,
  "nbformat_minor": 0,
  "metadata": {
    "colab": {
      "name": "Untitled4.ipynb",
      "provenance": [],
      "authorship_tag": "ABX9TyN+eTfk1sg2nwuiqSTFla2l",
      "include_colab_link": true
    },
    "kernelspec": {
      "name": "python3",
      "display_name": "Python 3"
    }
  },
  "cells": [
    {
      "cell_type": "markdown",
      "metadata": {
        "id": "view-in-github",
        "colab_type": "text"
      },
      "source": [
        "<a href=\"https://colab.research.google.com/github/Antik14/CSE309/blob/master/Untitled4.ipynb\" target=\"_parent\"><img src=\"https://colab.research.google.com/assets/colab-badge.svg\" alt=\"Open In Colab\"/></a>"
      ]
    },
    {
      "cell_type": "code",
      "metadata": {
        "id": "_VX3pomO27BF",
        "colab_type": "code",
        "colab": {}
      },
      "source": [
        ""
      ],
      "execution_count": null,
      "outputs": []
    },
    {
      "cell_type": "markdown",
      "metadata": {
        "id": "EdhfutBu3Cb2",
        "colab_type": "text"
      },
      "source": [
        "LOOP"
      ]
    },
    {
      "cell_type": "code",
      "metadata": {
        "id": "B0Fq9EBi3Eoh",
        "colab_type": "code",
        "colab": {}
      },
      "source": [
        "print: 0-9\n",
        "java code\n",
        "\n"
      ],
      "execution_count": null,
      "outputs": []
    }
  ]
}